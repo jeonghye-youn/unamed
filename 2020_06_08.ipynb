{
  "nbformat": 4,
  "nbformat_minor": 0,
  "metadata": {
    "colab": {
      "name": "2020-06-08.ipynb",
      "provenance": [],
      "collapsed_sections": [],
      "authorship_tag": "ABX9TyMJZggNpcjBFWFHGfMGvWOC",
      "include_colab_link": true
    },
    "kernelspec": {
      "name": "python3",
      "display_name": "Python 3"
    }
  },
  "cells": [
    {
      "cell_type": "markdown",
      "metadata": {
        "id": "view-in-github",
        "colab_type": "text"
      },
      "source": [
        "<a href=\"https://colab.research.google.com/github/jeonghye-youn/unamed/blob/master/2020_06_08.ipynb\" target=\"_parent\"><img src=\"https://colab.research.google.com/assets/colab-badge.svg\" alt=\"Open In Colab\"/></a>"
      ]
    },
    {
      "cell_type": "markdown",
      "metadata": {
        "id": "huln2mLf4Tu5",
        "colab_type": "text"
      },
      "source": [
        ""
      ]
    },
    {
      "cell_type": "code",
      "metadata": {
        "id": "lYhz7_dI4jZM",
        "colab_type": "code",
        "colab": {}
      },
      "source": [
        "def hello(name):\n",
        "  return f'환영합니다. {name}님!'"
      ],
      "execution_count": 0,
      "outputs": []
    },
    {
      "cell_type": "code",
      "metadata": {
        "id": "IKXXQPRk5CJo",
        "colab_type": "code",
        "outputId": "84a825a4-c64f-4c3d-ef2e-dbcb1dd12c05",
        "colab": {
          "base_uri": "https://localhost:8080/",
          "height": 53
        }
      },
      "source": [
        "name = input('이름을 입력해주세요 ')\n",
        "hello(name)"
      ],
      "execution_count": 0,
      "outputs": [
        {
          "output_type": "stream",
          "text": [
            "이름을 입력해주세요neon\n"
          ],
          "name": "stdout"
        },
        {
          "output_type": "execute_result",
          "data": {
            "text/plain": [
              "'환영합니다. neon님!'"
            ]
          },
          "metadata": {
            "tags": []
          },
          "execution_count": 6
        }
      ]
    },
    {
      "cell_type": "code",
      "metadata": {
        "id": "jtZfwsE-DkN4",
        "colab_type": "code",
        "colab": {
          "base_uri": "https://localhost:8080/",
          "height": 233
        },
        "outputId": "0199bbb2-bf3b-4a25-c9ae-0f6b9a2afc54"
      },
      "source": [
        "from email_test import Email\n",
        "\n",
        "e = Email()\n",
        "e.sender = \"youn.b@gmail.com\"\n",
        "recv_list = [\"b@gmail.com\", \"youn.b@gmail.com\"]\n",
        "\n",
        "for recv in recv_list:\n",
        "  e.send_mail(recv, \"환영합니다.\", \"오늘도 수고하셨습니다.\")"
      ],
      "execution_count": 12,
      "outputs": [
        {
          "output_type": "stream",
          "text": [
            "From:\tyoun.b@gmail.com\n",
            "To:\tb@gmail.com\n",
            "Subject: 환영합니다.\n",
            "Contents\n",
            "오늘도 수고하셨습니다.\n",
            "--------------------\n",
            "From:\tyoun.b@gmail.com\n",
            "To:\tyoun.b@gmail.com\n",
            "Subject: 환영합니다.\n",
            "Contents\n",
            "오늘도 수고하셨습니다.\n",
            "--------------------\n"
          ],
          "name": "stdout"
        }
      ]
    }
  ]
}