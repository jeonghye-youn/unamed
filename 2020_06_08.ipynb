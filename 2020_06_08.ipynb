{
  "nbformat": 4,
  "nbformat_minor": 0,
  "metadata": {
    "colab": {
      "name": "2020-06-08.ipynb",
      "provenance": [],
      "collapsed_sections": [],
      "authorship_tag": "ABX9TyOmtxzKsnKrSyKChs71s5HI",
      "include_colab_link": true
    },
    "kernelspec": {
      "name": "python3",
      "display_name": "Python 3"
    }
  },
  "cells": [
    {
      "cell_type": "markdown",
      "metadata": {
        "id": "view-in-github",
        "colab_type": "text"
      },
      "source": [
        "<a href=\"https://colab.research.google.com/github/jeonghye-youn/unamed/blob/master/2020_06_08.ipynb\" target=\"_parent\"><img src=\"https://colab.research.google.com/assets/colab-badge.svg\" alt=\"Open In Colab\"/></a>"
      ]
    },
    {
      "cell_type": "markdown",
      "metadata": {
        "id": "huln2mLf4Tu5",
        "colab_type": "text"
      },
      "source": [
        ""
      ]
    },
    {
      "cell_type": "code",
      "metadata": {
        "id": "lYhz7_dI4jZM",
        "colab_type": "code",
        "colab": {}
      },
      "source": [
        "def hello(name):\n",
        "  return f'환영합니다. {name}님!'"
      ],
      "execution_count": 0,
      "outputs": []
    },
    {
      "cell_type": "code",
      "metadata": {
        "id": "IKXXQPRk5CJo",
        "colab_type": "code",
        "outputId": "84a825a4-c64f-4c3d-ef2e-dbcb1dd12c05",
        "colab": {
          "base_uri": "https://localhost:8080/",
          "height": 53
        }
      },
      "source": [
        "name = input('이름을 입력해주세요 ')\n",
        "hello(name)"
      ],
      "execution_count": 0,
      "outputs": [
        {
          "output_type": "stream",
          "text": [
            "이름을 입력해주세요neon\n"
          ],
          "name": "stdout"
        },
        {
          "output_type": "execute_result",
          "data": {
            "text/plain": [
              "'환영합니다. neon님!'"
            ]
          },
          "metadata": {
            "tags": []
          },
          "execution_count": 6
        }
      ]
    },
    {
      "cell_type": "code",
      "metadata": {
        "id": "jtZfwsE-DkN4",
        "colab_type": "code",
        "colab": {
          "base_uri": "https://localhost:8080/",
          "height": 233
        },
        "outputId": "0199bbb2-bf3b-4a25-c9ae-0f6b9a2afc54"
      },
      "source": [
        "from email_test import Email\n",
        "\n",
        "e = Email()\n",
        "e.sender = \"youn.b@gmail.com\"\n",
        "recv_list = [\"b@gmail.com\", \"youn.b@gmail.com\"]\n",
        "\n",
        "for recv in recv_list:\n",
        "  e.send_mail(recv, \"환영합니다.\", \"오늘도 수고하셨습니다.\")"
      ],
      "execution_count": 12,
      "outputs": [
        {
          "output_type": "stream",
          "text": [
            "From:\tyoun.b@gmail.com\n",
            "To:\tb@gmail.com\n",
            "Subject: 환영합니다.\n",
            "Contents\n",
            "오늘도 수고하셨습니다.\n",
            "--------------------\n",
            "From:\tyoun.b@gmail.com\n",
            "To:\tyoun.b@gmail.com\n",
            "Subject: 환영합니다.\n",
            "Contents\n",
            "오늘도 수고하셨습니다.\n",
            "--------------------\n"
          ],
          "name": "stdout"
        }
      ]
    },
    {
      "cell_type": "code",
      "metadata": {
        "id": "PijweeihKLGt",
        "colab_type": "code",
        "colab": {}
      },
      "source": [
        "class Email:\n",
        "  sender = \"\"\n",
        "\n",
        "  def send_mail(self, recv, subject, contents):\n",
        "    print(\"From:\\t\" + self.sender)\n",
        "    print(\"To:\\t\" + recv)\n",
        "    print(\"Subject: \" + subject)\n",
        "    print(\"Contents\")\n",
        "    print(contents)\n",
        "    print(\"-\"*20)\n",
        "\n",
        "e = Email()\n",
        "e.sender = \"youn.b@gmail.com\"\n",
        "recv_list = [\"b@gmail.com\", \"youn.b@gmail.com\"]\n",
        "\n",
        "for recv in recv_list:\n",
        "  e.send_mail(recv, \"환영합니다.\", \"오늘도 수고하셨습니다.\")"
      ],
      "execution_count": 0,
      "outputs": []
    },
    {
      "cell_type": "code",
      "metadata": {
        "id": "Jn1hyXK9PKkG",
        "colab_type": "code",
        "colab": {}
      },
      "source": [
        "import numpy as np\n",
        "from scipy import stats"
      ],
      "execution_count": 0,
      "outputs": []
    },
    {
      "cell_type": "code",
      "metadata": {
        "id": "KP5CucITPSTC",
        "colab_type": "code",
        "colab": {}
      },
      "source": [
        "np.random.seed(0)"
      ],
      "execution_count": 0,
      "outputs": []
    },
    {
      "cell_type": "code",
      "metadata": {
        "id": "o_RSuRqQPaEV",
        "colab_type": "code",
        "colab": {}
      },
      "source": [
        "data_A = np.random.normal(size=100)"
      ],
      "execution_count": 0,
      "outputs": []
    },
    {
      "cell_type": "code",
      "metadata": {
        "id": "59kNCAuCPkU6",
        "colab_type": "code",
        "colab": {
          "base_uri": "https://localhost:8080/",
          "height": 71
        },
        "outputId": "fa5bd838-5c04-4375-d6e9-07f8da0f638e"
      },
      "source": [
        "mean = np.mean(data_A)\n",
        "median = np.median(data_A)\n",
        "mode = stats.mode(data_A)\n",
        "\n",
        "print(\"평균값: \", mean.round(2))\n",
        "print(\"중앙값: \", median)\n",
        "print(\"최빈값: {} ( {} )\". format(mode[0][0], mode[1][0]))"
      ],
      "execution_count": 34,
      "outputs": [
        {
          "output_type": "stream",
          "text": [
            "평균값:  0.06\n",
            "중앙값:  0.09409611943799814\n",
            "최빈값: -2.5529898158340787 ( 1 )\n"
          ],
          "name": "stdout"
        }
      ]
    }
  ]
}